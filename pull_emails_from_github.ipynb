{
 "cells": [
  {
   "cell_type": "code",
   "execution_count": 1,
   "id": "00783e5e",
   "metadata": {},
   "outputs": [],
   "source": [
    "import datetime\n",
    "import os\n",
    "import shutil\n",
    "import stat\n",
    "import subprocess\n",
    "import tempfile\n",
    "import time\n",
    "import requests"
   ]
  },
  {
   "cell_type": "code",
   "execution_count": 2,
   "id": "d8b6258f",
   "metadata": {},
   "outputs": [],
   "source": [
    "def get_user_repositories(username):\n",
    "    url = f\"https://api.github.com/users/{username}/repos\"\n",
    "    response = requests.get(url)\n",
    "\n",
    "    if response.status_code == 200:\n",
    "        repositories = response.json()\n",
    "        public_repos = [repo for repo in repositories if repo['private']==False]\n",
    "        urls = [repo['url'].replace('https://api.github.com/','https://github.com/').replace('/repos/','/') + '.git' \n",
    "                for repo in public_repos]\n",
    "        return urls\n",
    "    else:\n",
    "        print(f\"Failed to fetch repositories for user {username}. Status code: {response.status_code}\")\n",
    "        return None"
   ]
  },
  {
   "cell_type": "code",
   "execution_count": 15,
   "id": "2e18629c",
   "metadata": {
    "scrolled": false
   },
   "outputs": [],
   "source": [
    "def get_commit_emails_and_dates(repo_url,fullname,username,email_date_dict = {},verbose=False):\n",
    "    try:\n",
    "        temp_dir = tempfile.mkdtemp()\n",
    "        if verbose:\n",
    "            print(f'pulling from {repo_url}... \\ntemp dir is {temp_dir}')\n",
    "        # Clone the repository into the temporary directory\n",
    "        result = subprocess.run(['git', 'clone', repo_url, temp_dir], capture_output=True, text=True)\n",
    "\n",
    "        if result.returncode != 0:\n",
    "            print(f\"Error cloning repository: {result.stderr}\")\n",
    "            return None\n",
    "\n",
    "        os.chdir(temp_dir)\n",
    "        process = subprocess.Popen(['git', 'log', '--pretty=format:%an|%ae|%cd', '--date=iso'], stdout=subprocess.PIPE, stderr=subprocess.PIPE, text=True)\n",
    "        stdout, stderr = process.communicate()\n",
    "        \n",
    "        if process.returncode != 0:\n",
    "            print(f\"Error getting commit log: {stderr}\")\n",
    "            return None\n",
    "\n",
    "        commits = stdout.splitlines()\n",
    "        default_date = datetime.date(1970, 1, 1)\n",
    "        for commit in commits:\n",
    "            commit_name, email, date_str = commit.split('|')\n",
    "            if commit_name not in [fullname, username]:\n",
    "                continue\n",
    "            \n",
    "            if '@' not in email:\n",
    "                continue\n",
    "                \n",
    "            if '-' in email.split('@',1)[1]:\n",
    "                continue\n",
    "                \n",
    "            if email.endswith('.local') or email.endswith('.lan'):\n",
    "                continue\n",
    "\n",
    "            date_log = datetime.datetime.strptime(date_str[:10],'%Y-%M-%d').date()\n",
    "            if date_log > email_date_dict.get(email,default_date):\n",
    "                email_date_dict[email] = date_log\n",
    "        subprocess.run(['cd', '..'], shell=True, check=True)\n",
    "    except Exception as e:\n",
    "        print(f'Error pulling from {repo_url}: {e}')\n",
    "    finally:\n",
    "        return email_date_dict, temp_dir"
   ]
  },
  {
   "cell_type": "code",
   "execution_count": 16,
   "id": "77a478aa",
   "metadata": {},
   "outputs": [],
   "source": [
    "def get_fullname(username):\n",
    "    url = f\"https://api.github.com/users/{username}\"\n",
    "    response = requests.get(url)\n",
    "\n",
    "    if not response.ok:\n",
    "        raise RuntimeError(f'Error pulling username. {response.status_code}: {response.reason}')\n",
    "    user_dict = response.json()\n",
    "\n",
    "    if (fullname :=user_dict.get('name')):\n",
    "        return fullname\n",
    "    else:\n",
    "        raise RuntimeError('No Name for Username')"
   ]
  },
  {
   "cell_type": "code",
   "execution_count": 17,
   "id": "7cc74639",
   "metadata": {},
   "outputs": [],
   "source": [
    "def delete_temp(temp_dir):\n",
    "    '''\n",
    "    Changes permission of all files in temp_dir. Some are read-only.\n",
    "    '''\n",
    "    os.chdir(temp_dir)\n",
    "    os.chdir('..')\n",
    "    for root, dirs, files in os.walk(temp_dir):  \n",
    "        for dir in dirs:\n",
    "            os.chmod(os.path.join(root, dir), stat.S_IRWXU)\n",
    "        for file in files:\n",
    "            os.chmod(os.path.join(root, file), stat.S_IRWXU)\n",
    "    shutil.rmtree(temp_dir)"
   ]
  },
  {
   "cell_type": "code",
   "execution_count": 18,
   "id": "ab924630",
   "metadata": {
    "scrolled": false
   },
   "outputs": [],
   "source": [
    "def main():\n",
    "    username = input('Enter username (from URL): ')\n",
    "    fullname = get_fullname(username)\n",
    "    urls = get_user_repositories(username)\n",
    "    if not urls:\n",
    "        raise ValueError('no public repos to pull from')\n",
    "\n",
    "    email_date_dict = {}\n",
    "    for url in urls:\n",
    "        email_date_dict,temp_dir = get_commit_emails_and_dates(url,fullname,username,email_date_dict)\n",
    "        delete_temp(temp_dir)\n",
    "\n",
    "    email_date_tuples = [(email,date) for email,date in email_date_dict.items()]\n",
    "    email_date_tuples.sort(key = lambda x:x[1],reverse=True)\n",
    "\n",
    "    print(f'\\n\\n\\nEmails for {fullname}:')\n",
    "    for email,max_date in email_date_tuples:\n",
    "        max_date_formatted = max_date.strftime('%Y-%m-%d')\n",
    "        print(f'{email} - {max_date_formatted}')"
   ]
  },
  {
   "cell_type": "code",
   "execution_count": 19,
   "id": "09aa3d1a",
   "metadata": {},
   "outputs": [
    {
     "name": "stdout",
     "output_type": "stream",
     "text": [
      "Enter username (from URL): KishPatel1996\n"
     ]
    },
    {
     "name": "stderr",
     "output_type": "stream",
     "text": [
      "Exception in thread Thread-371:\n",
      "Traceback (most recent call last):\n",
      "  File \"C:\\ProgramData\\Anaconda3\\lib\\threading.py\", line 973, in _bootstrap_inner\n",
      "    self.run()\n",
      "  File \"C:\\ProgramData\\Anaconda3\\lib\\threading.py\", line 910, in run\n",
      "    self._target(*self._args, **self._kwargs)\n",
      "  File \"C:\\ProgramData\\Anaconda3\\lib\\subprocess.py\", line 1479, in _readerthread\n",
      "    buffer.append(fh.read())\n",
      "  File \"C:\\ProgramData\\Anaconda3\\lib\\encodings\\cp1252.py\", line 23, in decode\n",
      "    return codecs.charmap_decode(input,self.errors,decoding_table)[0]\n",
      "UnicodeDecodeError: 'charmap' codec can't decode byte 0x81 in position 13574: character maps to <undefined>\n"
     ]
    },
    {
     "name": "stdout",
     "output_type": "stream",
     "text": [
      "Error pulling from https://github.com/KishPatel1996/react-native.git: 'NoneType' object has no attribute 'splitlines'\n",
      "\n",
      "\n",
      "\n",
      "Emails for Kishan Patel:\n",
      "kishan.patel@berkeley.edu - 2020-01-07\n",
      "kishcoin@gmail.com - 2015-01-27\n",
      "kishan.patel.271996@gmail.com - 2015-01-18\n"
     ]
    }
   ],
   "source": [
    "if __name__ == '__main__':\n",
    "    main()"
   ]
  },
  {
   "cell_type": "code",
   "execution_count": null,
   "id": "3e2a77e5",
   "metadata": {},
   "outputs": [],
   "source": [
    "KishPatel1996"
   ]
  },
  {
   "cell_type": "code",
   "execution_count": null,
   "id": "fd0223b3",
   "metadata": {},
   "outputs": [],
   "source": []
  }
 ],
 "metadata": {
  "kernelspec": {
   "display_name": "Python 3 (ipykernel)",
   "language": "python",
   "name": "python3"
  },
  "language_info": {
   "codemirror_mode": {
    "name": "ipython",
    "version": 3
   },
   "file_extension": ".py",
   "mimetype": "text/x-python",
   "name": "python",
   "nbconvert_exporter": "python",
   "pygments_lexer": "ipython3",
   "version": "3.9.12"
  }
 },
 "nbformat": 4,
 "nbformat_minor": 5
}
